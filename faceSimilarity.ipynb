{
  "nbformat": 4,
  "nbformat_minor": 0,
  "metadata": {
    "colab": {
      "provenance": []
    },
    "kernelspec": {
      "name": "python3",
      "display_name": "Python 3"
    },
    "language_info": {
      "name": "python"
    }
  },
  "cells": [
    {
      "cell_type": "code",
      "source": [
        "!pip install torch torchvision numpy pillow\n",
        "!git clone https://github.com/IrvingMeng/MagFace.git\n",
        "!pip install -r /content/MagFace/raw/requirements.txt\n",
        "\n",
        "import math\n",
        "import torch\n",
        "import torch.nn as nn\n",
        "import torchvision.transforms as transforms\n",
        "from PIL import Image\n",
        "import numpy as np\n",
        "from torchvision import models"
      ],
      "metadata": {
        "colab": {
          "base_uri": "https://localhost:8080/"
        },
        "id": "gfB-eIMc32jr",
        "outputId": "0659ca68-362a-4753-ad84-628e742e9746"
      },
      "execution_count": 9,
      "outputs": [
        {
          "output_type": "stream",
          "name": "stdout",
          "text": [
            "Requirement already satisfied: torch in /usr/local/lib/python3.10/dist-packages (2.5.1+cu121)\n",
            "Requirement already satisfied: torchvision in /usr/local/lib/python3.10/dist-packages (0.20.1+cu121)\n",
            "Requirement already satisfied: numpy in /usr/local/lib/python3.10/dist-packages (1.26.4)\n",
            "Requirement already satisfied: pillow in /usr/local/lib/python3.10/dist-packages (11.0.0)\n",
            "Requirement already satisfied: filelock in /usr/local/lib/python3.10/dist-packages (from torch) (3.16.1)\n",
            "Requirement already satisfied: typing-extensions>=4.8.0 in /usr/local/lib/python3.10/dist-packages (from torch) (4.12.2)\n",
            "Requirement already satisfied: networkx in /usr/local/lib/python3.10/dist-packages (from torch) (3.4.2)\n",
            "Requirement already satisfied: jinja2 in /usr/local/lib/python3.10/dist-packages (from torch) (3.1.4)\n",
            "Requirement already satisfied: fsspec in /usr/local/lib/python3.10/dist-packages (from torch) (2024.10.0)\n",
            "Requirement already satisfied: sympy==1.13.1 in /usr/local/lib/python3.10/dist-packages (from torch) (1.13.1)\n",
            "Requirement already satisfied: mpmath<1.4,>=1.1.0 in /usr/local/lib/python3.10/dist-packages (from sympy==1.13.1->torch) (1.3.0)\n",
            "Requirement already satisfied: MarkupSafe>=2.0 in /usr/local/lib/python3.10/dist-packages (from jinja2->torch) (3.0.2)\n",
            "fatal: destination path 'MagFace' already exists and is not an empty directory.\n",
            "Requirement already satisfied: torchvision in /usr/local/lib/python3.10/dist-packages (from -r /content/MagFace/raw/requirements.txt (line 1)) (0.20.1+cu121)\n",
            "Collecting torchshard (from -r /content/MagFace/raw/requirements.txt (line 2))\n",
            "  Using cached torchshard-0.1.0-py3-none-any.whl.metadata (748 bytes)\n",
            "Requirement already satisfied: torch in /usr/local/lib/python3.10/dist-packages (from -r /content/MagFace/raw/requirements.txt (line 3)) (2.5.1+cu121)\n",
            "Requirement already satisfied: numpy in /usr/local/lib/python3.10/dist-packages (from -r /content/MagFace/raw/requirements.txt (line 4)) (1.26.4)\n",
            "Requirement already satisfied: scipy in /usr/local/lib/python3.10/dist-packages (from -r /content/MagFace/raw/requirements.txt (line 5)) (1.13.1)\n",
            "Requirement already satisfied: termcolor in /usr/local/lib/python3.10/dist-packages (from -r /content/MagFace/raw/requirements.txt (line 6)) (2.5.0)\n",
            "Requirement already satisfied: opencv-contrib-python in /usr/local/lib/python3.10/dist-packages (from -r /content/MagFace/raw/requirements.txt (line 7)) (4.10.0.84)\n",
            "Collecting jupyterlab (from -r /content/MagFace/raw/requirements.txt (line 8))\n",
            "  Using cached jupyterlab-4.3.1-py3-none-any.whl.metadata (16 kB)\n",
            "Requirement already satisfied: notebook in /usr/local/lib/python3.10/dist-packages (from -r /content/MagFace/raw/requirements.txt (line 9)) (6.5.5)\n",
            "Requirement already satisfied: seaborn in /usr/local/lib/python3.10/dist-packages (from -r /content/MagFace/raw/requirements.txt (line 10)) (0.13.2)\n",
            "Collecting Pillow==6.2.2 (from -r /content/MagFace/raw/requirements.txt (line 11))\n",
            "  Using cached Pillow-6.2.2.tar.gz (37.8 MB)\n",
            "  Preparing metadata (setup.py) ... \u001b[?25l\u001b[?25hdone\n",
            "Requirement already satisfied: matplotlib in /usr/local/lib/python3.10/dist-packages (from -r /content/MagFace/raw/requirements.txt (line 12)) (3.8.0)\n",
            "Collecting loguru (from -r /content/MagFace/raw/requirements.txt (line 13))\n",
            "  Using cached loguru-0.7.2-py3-none-any.whl.metadata (23 kB)\n",
            "Requirement already satisfied: six in /usr/local/lib/python3.10/dist-packages (from -r /content/MagFace/raw/requirements.txt (line 14)) (1.16.0)\n",
            "Requirement already satisfied: imageio in /usr/local/lib/python3.10/dist-packages (from -r /content/MagFace/raw/requirements.txt (line 15)) (2.36.0)\n",
            "Requirement already satisfied: scikit-image in /usr/local/lib/python3.10/dist-packages (from -r /content/MagFace/raw/requirements.txt (line 16)) (0.24.0)\n",
            "Requirement already satisfied: tqdm in /usr/local/lib/python3.10/dist-packages (from -r /content/MagFace/raw/requirements.txt (line 17)) (4.66.6)\n",
            "Collecting sklearn (from -r /content/MagFace/raw/requirements.txt (line 18))\n",
            "  Using cached sklearn-0.0.post12.tar.gz (2.6 kB)\n",
            "  \u001b[1;31merror\u001b[0m: \u001b[1msubprocess-exited-with-error\u001b[0m\n",
            "  \n",
            "  \u001b[31m×\u001b[0m \u001b[32mpython setup.py egg_info\u001b[0m did not run successfully.\n",
            "  \u001b[31m│\u001b[0m exit code: \u001b[1;36m1\u001b[0m\n",
            "  \u001b[31m╰─>\u001b[0m See above for output.\n",
            "  \n",
            "  \u001b[1;35mnote\u001b[0m: This error originates from a subprocess, and is likely not a problem with pip.\n",
            "  Preparing metadata (setup.py) ... \u001b[?25l\u001b[?25herror\n",
            "\u001b[1;31merror\u001b[0m: \u001b[1mmetadata-generation-failed\u001b[0m\n",
            "\n",
            "\u001b[31m×\u001b[0m Encountered error while generating package metadata.\n",
            "\u001b[31m╰─>\u001b[0m See above for output.\n",
            "\n",
            "\u001b[1;35mnote\u001b[0m: This is an issue with the package mentioned above, not pip.\n",
            "\u001b[1;36mhint\u001b[0m: See above for details.\n"
          ]
        }
      ]
    },
    {
      "cell_type": "code",
      "execution_count": 14,
      "metadata": {
        "colab": {
          "base_uri": "https://localhost:8080/"
        },
        "id": "A8LBpiv812xN",
        "outputId": "19cd0736-9a67-431a-937a-6aa72e208625"
      },
      "outputs": [
        {
          "output_type": "stream",
          "name": "stdout",
          "text": [
            "Drive already mounted at /content/drive; to attempt to forcibly remount, call drive.mount(\"/content/drive\", force_remount=True).\n"
          ]
        },
        {
          "output_type": "stream",
          "name": "stderr",
          "text": [
            "<ipython-input-14-fbaa75b82b4e>:14: FutureWarning: You are using `torch.load` with `weights_only=False` (the current default value), which uses the default pickle module implicitly. It is possible to construct malicious pickle data which will execute arbitrary code during unpickling (See https://github.com/pytorch/pytorch/blob/main/SECURITY.md#untrusted-models for more details). In a future release, the default value for `weights_only` will be flipped to `True`. This limits the functions that could be executed during unpickling. Arbitrary objects will no longer be allowed to be loaded via this mode unless they are explicitly allowlisted by the user via `torch.serialization.add_safe_globals`. We recommend you start setting `weights_only=True` for any use case where you don't have full control of the loaded file. Please open an issue on GitHub for any issues related to this experimental feature.\n",
            "  checkpoint = torch.load(\"/content/drive/My Drive/faceRecognition/magface_iresnet50_MS1MV2_ddp_fp32.pth\", map_location=torch.device('cpu'))\n"
          ]
        },
        {
          "output_type": "stream",
          "name": "stdout",
          "text": [
            "embedding1: [ 6.3804255  19.14647     0.3123509  ...  0.17544618  0.\n",
            "  2.710642  ]\n",
            "embedding2: [ 6.78811    20.194508    0.30264223 ...  0.22445828  0.\n",
            "  3.00511   ]\n",
            "Distance: 0.0049760705602348715\n",
            "similarity: 0.9950239294397651\n"
          ]
        }
      ],
      "source": [
        "class MagFace(nn.Module):\n",
        "    def __init__(self):\n",
        "        super(MagFace, self).__init__()\n",
        "        self.model = models.resnet50()\n",
        "        self.model.fc = nn.Identity()\n",
        "\n",
        "    def forward(self, x):\n",
        "        return self.model(x)\n",
        "\n",
        "from google.colab import drive\n",
        "drive.mount('/content/drive')\n",
        "\n",
        "model = MagFace()\n",
        "checkpoint = torch.load(\"/content/drive/My Drive/faceRecognition/magface_iresnet50_MS1MV2_ddp_fp32.pth\", map_location=torch.device('cpu'))\n",
        "model.load_state_dict(checkpoint, strict=False)\n",
        "model.eval()\n",
        "\n",
        "def preprocess_image(image_path):\n",
        "    preprocess = transforms.Compose([\n",
        "        transforms.Resize((112, 112)),\n",
        "        transforms.ToTensor(),\n",
        "        transforms.Normalize(mean=[0.5, 0.5, 0.5], std=[0.5, 0.5, 0.5])\n",
        "    ])\n",
        "    img = Image.open(image_path).convert(\"RGB\")\n",
        "    img_tensor = preprocess(img).unsqueeze(0)\n",
        "    return img_tensor\n",
        "\n",
        "def get_embedding(model, image_path):\n",
        "    image_tensor = preprocess_image(image_path)\n",
        "    with torch.no_grad():\n",
        "        embedding = model(image_tensor)\n",
        "    return embedding.squeeze(0).numpy()\n",
        "\n",
        "image1_path = \"/content/drive/My Drive/faceRecognition/1-2.jpg\"\n",
        "image2_path = \"/content/drive/My Drive/faceRecognition/test1.jpg\"\n",
        "\n",
        "embedding1 = get_embedding(model, image1_path)\n",
        "embedding2 = get_embedding(model, image2_path)\n",
        "\n",
        "def distance_(embeddings0, embeddings1):\n",
        "    # Distance based on cosine similarity\n",
        "    dot = np.sum(np.multiply(embeddings0, embeddings1))\n",
        "    norm = np.linalg.norm(embeddings0) * np.linalg.norm(embeddings1)\n",
        "    # shaving\n",
        "    similarity = np.clip(dot / norm, -1., 1.)\n",
        "    dist = np.arccos(similarity) / math.pi\n",
        "    return dist\n",
        "\n",
        "dist = distance_(embedding1, embedding2)\n",
        "\n",
        "print(f\"embedding1: {embedding1}\")\n",
        "print(f\"embedding2: {embedding2}\")\n",
        "print(f\"Distance: {dist}\")\n",
        "print(f\"similarity: {1 - dist}\")"
      ]
    },
    {
      "cell_type": "code",
      "source": [
        "!pip install onnx\n",
        "\n",
        "def convert_to_onnx(model, onnx_path, img_input):\n",
        "    torch.onnx.export(\n",
        "        model,\n",
        "        img_input,\n",
        "        onnx_path,\n",
        "        export_params=True,\n",
        "        opset_version=11,\n",
        "        do_constant_folding=True,\n",
        "        input_names=[\"input\"],\n",
        "        output_names=[\"output\"],\n",
        "        dynamic_axes={\"input\": {0: \"batch_size\"}, \"output\": {0: \"batch_size\"}}\n",
        "    )\n",
        "    print(f\"Model successfully converted to {onnx_path}\")\n",
        "\n",
        "onnx_path = \"magface_iresnet50.onnx\"\n",
        "\n",
        "convert_to_onnx(model, onnx_path, preprocess_image(image1_path))"
      ],
      "metadata": {
        "colab": {
          "base_uri": "https://localhost:8080/"
        },
        "id": "xpbqMv2S34Hc",
        "outputId": "6ce71b91-d655-425f-8e35-741e586faa4b"
      },
      "execution_count": 15,
      "outputs": [
        {
          "output_type": "stream",
          "name": "stdout",
          "text": [
            "Requirement already satisfied: onnx in /usr/local/lib/python3.10/dist-packages (1.17.0)\n",
            "Requirement already satisfied: numpy>=1.20 in /usr/local/lib/python3.10/dist-packages (from onnx) (1.26.4)\n",
            "Requirement already satisfied: protobuf>=3.20.2 in /usr/local/lib/python3.10/dist-packages (from onnx) (4.25.5)\n",
            "Model successfully converted to magface_iresnet50.onnx\n"
          ]
        }
      ]
    },
    {
      "cell_type": "code",
      "source": [
        "!pip install onnxruntime\n",
        "import onnxruntime as ort"
      ],
      "metadata": {
        "colab": {
          "base_uri": "https://localhost:8080/"
        },
        "id": "BinSRf1T5vjo",
        "outputId": "fa3e68ec-366c-47a1-e83c-5f683874939e"
      },
      "execution_count": 16,
      "outputs": [
        {
          "output_type": "stream",
          "name": "stdout",
          "text": [
            "Requirement already satisfied: onnxruntime in /usr/local/lib/python3.10/dist-packages (1.20.0)\n",
            "Requirement already satisfied: coloredlogs in /usr/local/lib/python3.10/dist-packages (from onnxruntime) (15.0.1)\n",
            "Requirement already satisfied: flatbuffers in /usr/local/lib/python3.10/dist-packages (from onnxruntime) (24.3.25)\n",
            "Requirement already satisfied: numpy>=1.21.6 in /usr/local/lib/python3.10/dist-packages (from onnxruntime) (1.26.4)\n",
            "Requirement already satisfied: packaging in /usr/local/lib/python3.10/dist-packages (from onnxruntime) (24.2)\n",
            "Requirement already satisfied: protobuf in /usr/local/lib/python3.10/dist-packages (from onnxruntime) (4.25.5)\n",
            "Requirement already satisfied: sympy in /usr/local/lib/python3.10/dist-packages (from onnxruntime) (1.13.1)\n",
            "Requirement already satisfied: humanfriendly>=9.1 in /usr/local/lib/python3.10/dist-packages (from coloredlogs->onnxruntime) (10.0)\n",
            "Requirement already satisfied: mpmath<1.4,>=1.1.0 in /usr/local/lib/python3.10/dist-packages (from sympy->onnxruntime) (1.3.0)\n"
          ]
        }
      ]
    },
    {
      "cell_type": "code",
      "source": [
        "def extract_embedding(onnx_path, image_path):\n",
        "    image_tensor = preprocess_image(image_path).numpy()\n",
        "    session = ort.InferenceSession(onnx_path)\n",
        "    input_name = session.get_inputs()[0].name\n",
        "    output_name = session.get_outputs()[0].name\n",
        "    embedding = session.run([output_name], {input_name: image_tensor})[0]\n",
        "    return embedding\n",
        "\n",
        "embedding1 = extract_embedding(onnx_path, image1_path)\n",
        "embedding2 = extract_embedding(onnx_path, image2_path)\n",
        "\n",
        "dist = distance_(embedding1.flatten(), embedding2.flatten())\n",
        "\n",
        "print(f\"embedding1: {embedding1}\")\n",
        "print(f\"embedding2: {embedding2}\")\n",
        "print(f\"Distance: {dist}\")\n",
        "print(f\"similarity: {1 - dist}\")"
      ],
      "metadata": {
        "colab": {
          "base_uri": "https://localhost:8080/"
        },
        "id": "NPGQkuiX4eqA",
        "outputId": "14ae11c3-a938-440d-a0a7-4b4dd6d3a0ce"
      },
      "execution_count": 17,
      "outputs": [
        {
          "output_type": "stream",
          "name": "stdout",
          "text": [
            "embedding1: [[ 6.380427   19.146467    0.31235018 ...  0.1754458   0.\n",
            "   2.7106433 ]]\n",
            "embedding2: [[ 6.788112   20.194506    0.3026447  ...  0.22445679  0.\n",
            "   3.0051086 ]]\n",
            "Distance: 0.0049760705602348715\n",
            "similarity: 0.9950239294397651\n"
          ]
        }
      ]
    },
    {
      "cell_type": "code",
      "source": [],
      "metadata": {
        "id": "B5ljuiD84omp"
      },
      "execution_count": 13,
      "outputs": []
    }
  ]
}